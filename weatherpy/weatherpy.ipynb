{
 "cells": [
  {
   "cell_type": "markdown",
   "metadata": {},
   "source": [
    "# WeatherPy\n",
    "----\n",
    "\n",
    "#### Note\n",
    "* Instructions have been included for each segment. You do not have to follow them exactly, but they are included to help you think through the steps."
   ]
  },
  {
   "cell_type": "code",
   "execution_count": 1,
   "metadata": {
    "scrolled": true
   },
   "outputs": [],
   "source": [
    "# Dependencies and Setup\n",
    "import matplotlib.pyplot as plt\n",
    "import pandas as pd\n",
    "import numpy as np\n",
    "import requests\n",
    "import time\n",
    "from scipy.stats import linregress\n",
    "\n",
    "# Import API key\n",
    "from api_keys import weather_api_key\n",
    "\n",
    "# Incorporated citipy to determine city based on latitude and longitude\n",
    "from citipy import citipy\n",
    "\n",
    "# Output File (CSV)\n",
    "output_data_file = \"output_data/cities.csv\"\n",
    "\n",
    "# Range of latitudes and longitudes\n",
    "lat_range = (-90, 90)\n",
    "lng_range = (-180, 180)"
   ]
  },
  {
   "cell_type": "markdown",
   "metadata": {},
   "source": [
    "## Generate Cities List"
   ]
  },
  {
   "cell_type": "code",
   "execution_count": 2,
   "metadata": {},
   "outputs": [
    {
     "data": {
      "text/plain": [
       "607"
      ]
     },
     "execution_count": 2,
     "metadata": {},
     "output_type": "execute_result"
    }
   ],
   "source": [
    "# List for holding lat_lngs and cities\n",
    "lat_lngs = []\n",
    "cities = []\n",
    "\n",
    "# Create a set of random lat and lng combinations\n",
    "lats = np.random.uniform(lat_range[0], lat_range[1], size=1500)\n",
    "lngs = np.random.uniform(lng_range[0], lng_range[1], size=1500)\n",
    "lat_lngs = zip(lats, lngs)\n",
    "\n",
    "# Identify nearest city for each lat, lng combination\n",
    "for lat_lng in lat_lngs:\n",
    "    city = citipy.nearest_city(lat_lng[0], lat_lng[1]).city_name\n",
    "    \n",
    "    # If the city is unique, then add it to a our cities list\n",
    "    if city not in cities:\n",
    "        cities.append(city)\n",
    "\n",
    "# Print the city count to confirm sufficient count\n",
    "len(cities)"
   ]
  },
  {
   "cell_type": "markdown",
   "metadata": {},
   "source": [
    "### Perform API Calls\n",
    "* Perform a weather check on each city using a series of successive API calls.\n",
    "* Include a print log of each city as it'sbeing processed (with the city number and city name).\n"
   ]
  },
  {
   "cell_type": "code",
   "execution_count": 21,
   "metadata": {
    "scrolled": false
   },
   "outputs": [
    {
     "name": "stdout",
     "output_type": "stream",
     "text": [
      "Getting data for: puerto ayora\n",
      "Getting data for: bayir\n",
      "Getting data for: dawlatabad\n",
      "Getting data for: albany\n",
      "Getting data for: lavrentiya\n",
      "Getting data for: tiksi\n",
      "Getting data for: port alfred\n",
      "Getting data for: akureyri\n",
      "Getting data for: kusti\n",
      "Getting data for: khatanga\n",
      "Getting data for: atuona\n",
      "Getting data for: padang\n",
      "Getting data for: georgetown\n",
      "Getting data for: rikitea\n",
      "Getting data for: new norfolk\n",
      "Getting data for: avarua\n",
      "Getting data for: luchenza\n",
      "Getting data for: palma soriano\n",
      "Getting data for: bethel\n",
      "Getting data for: luzon\n",
      "Getting data for: illoqqortoormiut\n",
      "City not found: illoqqortoormiut\n",
      "Getting data for: rocha\n",
      "Getting data for: provideniya\n",
      "Getting data for: hithadhoo\n",
      "Getting data for: busselton\n",
      "Getting data for: tabivere\n",
      "Getting data for: atambua\n",
      "Getting data for: khandyga\n",
      "Getting data for: banda aceh\n",
      "Getting data for: beisfjord\n",
      "Getting data for: nova serrana\n",
      "Getting data for: praia\n",
      "Getting data for: hobart\n",
      "Getting data for: zhenjiang\n",
      "Getting data for: punta arenas\n",
      "Getting data for: puri\n",
      "Getting data for: barrow\n",
      "Getting data for: inverness\n",
      "Getting data for: saint-philippe\n",
      "Getting data for: norman wells\n",
      "Getting data for: victoria\n",
      "Getting data for: clarksville\n",
      "Getting data for: valday\n",
      "Getting data for: kahului\n",
      "Getting data for: bambous virieux\n",
      "Getting data for: chumikan\n",
      "Getting data for: chokurdakh\n",
      "Getting data for: russell\n",
      "Getting data for: carnarvon\n",
      "Getting data for: kapaa\n",
      "Getting data for: poum\n",
      "Getting data for: bolungarvik\n",
      "City not found: bolungarvik\n",
      "Getting data for: barawe\n",
      "City not found: barawe\n",
      "Getting data for: batticaloa\n",
      "Getting data for: san patricio\n",
      "Getting data for: rio branco\n",
      "Getting data for: klaksvik\n",
      "Getting data for: cabo san lucas\n",
      "Getting data for: cairns\n",
      "Getting data for: malkangiri\n",
      "Getting data for: lolua\n",
      "City not found: lolua\n",
      "Getting data for: chifeng\n",
      "Getting data for: ribeira grande\n",
      "Getting data for: sassandra\n",
      "Getting data for: ahipara\n",
      "Getting data for: hermanus\n",
      "Getting data for: jamestown\n",
      "Getting data for: fare\n",
      "Getting data for: yar-sale\n",
      "Getting data for: necochea\n",
      "Getting data for: kalomo\n",
      "City not found: kalomo\n",
      "Getting data for: castro\n",
      "Getting data for: belushya guba\n",
      "City not found: belushya guba\n",
      "Getting data for: port elizabeth\n",
      "Getting data for: chuy\n",
      "Getting data for: bluff\n",
      "Getting data for: saint-michel-des-saints\n",
      "Getting data for: sinazongwe\n",
      "Getting data for: sitka\n",
      "Getting data for: burnie\n",
      "Getting data for: vastervik\n",
      "City not found: vastervik\n",
      "Getting data for: taolanaro\n",
      "City not found: taolanaro\n",
      "Getting data for: herne bay\n",
      "Getting data for: hilo\n",
      "Getting data for: ushuaia\n",
      "Getting data for: tudela\n",
      "Getting data for: isangel\n",
      "Getting data for: yellowknife\n",
      "Getting data for: cozumel\n",
      "Getting data for: husavik\n",
      "Getting data for: pirojpur\n",
      "Getting data for: mataura\n",
      "Getting data for: kaeo\n",
      "Getting data for: iqaluit\n",
      "Getting data for: trairi\n",
      "Getting data for: mpigi\n",
      "Getting data for: samusu\n",
      "City not found: samusu\n",
      "Getting data for: hobyo\n",
      "Getting data for: qaanaaq\n",
      "Getting data for: abu zabad\n",
      "Getting data for: dakar\n",
      "Getting data for: roma\n",
      "Getting data for: hasaki\n",
      "Getting data for: chabahar\n",
      "Getting data for: buala\n",
      "Getting data for: worland\n",
      "Getting data for: bilibino\n",
      "Getting data for: college\n",
      "Getting data for: upata\n",
      "Getting data for: thompson\n",
      "Getting data for: dingle\n",
      "Getting data for: erenhot\n",
      "Getting data for: wulanhaote\n",
      "City not found: wulanhaote\n",
      "Getting data for: kasongo-lunda\n",
      "Getting data for: pisco\n",
      "Getting data for: neryungri\n",
      "Getting data for: mbanza-ngungu\n",
      "Getting data for: toora-khem\n",
      "Getting data for: sao joao da barra\n",
      "Getting data for: umm durman\n",
      "City not found: umm durman\n",
      "Getting data for: cape town\n",
      "Getting data for: tasiilaq\n",
      "Getting data for: solhan\n",
      "Getting data for: mukhen\n",
      "Getting data for: daru\n",
      "Getting data for: ketchikan\n",
      "Getting data for: ancud\n",
      "Getting data for: veraval\n",
      "Getting data for: mareeba\n",
      "Getting data for: katsuura\n",
      "Getting data for: flin flon\n",
      "Getting data for: alofi\n",
      "Getting data for: narrabri\n",
      "Getting data for: teknaf\n",
      "Getting data for: popondetta\n",
      "Getting data for: sur\n",
      "Getting data for: victor harbor\n",
      "Getting data for: matata\n",
      "Getting data for: petropavlovsk-kamchatskiy\n",
      "Getting data for: sakakah\n",
      "Getting data for: baykit\n",
      "Getting data for: luganville\n",
      "Getting data for: bongandanga\n",
      "Getting data for: awbari\n",
      "Getting data for: alotau\n",
      "City not found: alotau\n",
      "Getting data for: nikolskoye\n",
      "Getting data for: cidreira\n",
      "Getting data for: nioaque\n",
      "Getting data for: kruisfontein\n",
      "Getting data for: hailun\n",
      "Getting data for: ahtopol\n",
      "Getting data for: bengkulu\n",
      "Getting data for: bredasdorp\n",
      "Getting data for: tsihombe\n",
      "City not found: tsihombe\n",
      "Getting data for: plaster rock\n",
      "Getting data for: sao filipe\n",
      "Getting data for: te anau\n",
      "Getting data for: sinnamary\n",
      "Getting data for: talnakh\n",
      "Getting data for: geraldton\n",
      "Getting data for: kavieng\n",
      "Getting data for: maldonado\n",
      "Getting data for: canar\n",
      "Getting data for: chara\n",
      "Getting data for: stantsiya gorchakovo\n",
      "City not found: stantsiya gorchakovo\n",
      "Getting data for: kodiak\n",
      "Getting data for: maniwaki\n",
      "Getting data for: wanning\n",
      "Getting data for: severo-kurilsk\n",
      "Getting data for: vaini\n",
      "Getting data for: kaitangata\n",
      "Getting data for: aklavik\n",
      "Getting data for: shirakawa\n",
      "Getting data for: pingliang\n",
      "Getting data for: maniitsoq\n",
      "Getting data for: palabuhanratu\n",
      "City not found: palabuhanratu\n",
      "Getting data for: ponta do sol\n",
      "Getting data for: plettenberg bay\n",
      "Getting data for: pangnirtung\n",
      "Getting data for: butaritari\n",
      "Getting data for: koungou\n",
      "Getting data for: olafsvik\n",
      "Getting data for: pemberton\n",
      "Getting data for: petatlan\n",
      "Getting data for: souillac\n",
      "Getting data for: upernavik\n",
      "Getting data for: warrnambool\n",
      "Getting data for: lompoc\n",
      "Getting data for: alta floresta\n",
      "Getting data for: saleaula\n",
      "City not found: saleaula\n",
      "Getting data for: martapura\n",
      "Getting data for: mantua\n",
      "Getting data for: bayan\n",
      "Getting data for: fairbanks\n",
      "Getting data for: wajima\n",
      "Getting data for: vaitupu\n",
      "City not found: vaitupu\n",
      "Getting data for: sobolevo\n",
      "Getting data for: tumannyy\n",
      "City not found: tumannyy\n",
      "Getting data for: vestmannaeyjar\n",
      "Getting data for: jalu\n",
      "Getting data for: henties bay\n",
      "Getting data for: aswan\n",
      "Getting data for: bathsheba\n",
      "Getting data for: seoul\n",
      "Getting data for: kutum\n",
      "Getting data for: arkhangelsk\n",
      "Getting data for: puka\n",
      "Getting data for: dalvik\n",
      "Getting data for: caravelas\n",
      "Getting data for: mbandaka\n",
      "Getting data for: barentsburg\n",
      "City not found: barentsburg\n",
      "Getting data for: faro\n",
      "Getting data for: tuktoyaktuk\n",
      "Getting data for: lebu\n",
      "Getting data for: gore\n",
      "Getting data for: kavaratti\n",
      "Getting data for: deulgaon raja\n",
      "Getting data for: dikson\n",
      "Getting data for: nanortalik\n",
      "Getting data for: otjiwarongo\n",
      "Getting data for: nago\n",
      "Getting data for: east london\n",
      "Getting data for: mar del plata\n",
      "Getting data for: ust-kulom\n",
      "Getting data for: brufut\n",
      "Getting data for: santa cruz\n",
      "Getting data for: los llanos de aridane\n",
      "Getting data for: progreso\n",
      "Getting data for: mehamn\n",
      "Getting data for: narsaq\n",
      "Getting data for: chernyshevskiy\n",
      "Getting data for: adrar\n",
      "Getting data for: mergui\n",
      "City not found: mergui\n",
      "Getting data for: wolfhagen\n",
      "Getting data for: dembi dolo\n",
      "Getting data for: constitucion\n",
      "Getting data for: novoagansk\n",
      "Getting data for: ylojarvi\n",
      "Getting data for: porto nacional\n",
      "Getting data for: jilib\n",
      "Getting data for: muli\n",
      "Getting data for: ulaanbaatar\n",
      "Getting data for: vardo\n",
      "Getting data for: mocuba\n",
      "Getting data for: barmer\n",
      "Getting data for: otofuke\n",
      "Getting data for: pevek\n",
      "Getting data for: prince rupert\n",
      "Getting data for: moerai\n",
      "Getting data for: vorozhba\n",
      "Getting data for: tual\n",
      "Getting data for: inderborskiy\n",
      "City not found: inderborskiy\n",
      "Getting data for: brae\n",
      "Getting data for: evensk\n",
      "Getting data for: nizhneyansk\n",
      "City not found: nizhneyansk\n",
      "Getting data for: ponta delgada\n",
      "Getting data for: zhigansk\n",
      "Getting data for: concarneau\n",
      "Getting data for: cherskiy\n",
      "Getting data for: saskylakh\n",
      "Getting data for: sola\n",
      "Getting data for: mitsamiouli\n",
      "Getting data for: nome\n",
      "Getting data for: tuatapere\n",
      "Getting data for: aguimes\n",
      "Getting data for: clyde river\n",
      "Getting data for: saint-leu\n",
      "Getting data for: keti bandar\n",
      "Getting data for: turayf\n",
      "Getting data for: coronel bogado\n",
      "Getting data for: luderitz\n",
      "Getting data for: lata\n",
      "Getting data for: namibe\n",
      "Getting data for: sentyabrskiy\n",
      "City not found: sentyabrskiy\n",
      "Getting data for: villa carlos paz\n",
      "Getting data for: muros\n",
      "Getting data for: karaul\n"
     ]
    },
    {
     "name": "stdout",
     "output_type": "stream",
     "text": [
      "City not found: karaul\n",
      "Getting data for: atar\n",
      "Getting data for: boguchany\n",
      "Getting data for: zaraysk\n",
      "Getting data for: alice springs\n",
      "Getting data for: najran\n",
      "Getting data for: karpathos\n",
      "Getting data for: huancavelica\n",
      "Getting data for: port pirie\n",
      "Getting data for: kpandae\n",
      "Getting data for: yulara\n",
      "Getting data for: shingu\n",
      "Getting data for: gagnoa\n",
      "Getting data for: canto do buriti\n",
      "Getting data for: russkaya polyana\n",
      "Getting data for: nguiu\n",
      "City not found: nguiu\n",
      "Getting data for: pimentel\n",
      "Getting data for: richards bay\n",
      "Getting data for: yenagoa\n",
      "Getting data for: cowra\n",
      "Getting data for: vrbno pod pradedem\n",
      "Getting data for: san quintin\n",
      "Getting data for: camopi\n",
      "Getting data for: zunyi\n",
      "Getting data for: mao\n",
      "Getting data for: waingapu\n",
      "Getting data for: udachnyy\n",
      "Getting data for: ulaangom\n",
      "Getting data for: taoudenni\n",
      "Getting data for: faanui\n",
      "Getting data for: talaya\n",
      "Getting data for: grindavik\n",
      "Getting data for: khonuu\n",
      "City not found: khonuu\n",
      "Getting data for: saldanha\n",
      "Getting data for: ust-kamchatsk\n",
      "City not found: ust-kamchatsk\n",
      "Getting data for: umm lajj\n",
      "Getting data for: bonthe\n",
      "Getting data for: gospic\n",
      "Getting data for: honiara\n",
      "Getting data for: mercedes\n",
      "Getting data for: dicabisagan\n",
      "Getting data for: itarema\n",
      "Getting data for: mandal\n",
      "Getting data for: nongan\n",
      "Getting data for: kuusamo\n",
      "Getting data for: severo-yeniseyskiy\n",
      "Getting data for: conde\n",
      "Getting data for: hofn\n",
      "Getting data for: kijang\n",
      "Getting data for: kishi\n",
      "Getting data for: qaqortoq\n",
      "Getting data for: tecoanapa\n",
      "Getting data for: sept-iles\n",
      "Getting data for: itoman\n",
      "Getting data for: green river\n",
      "Getting data for: touros\n",
      "Getting data for: ibra\n",
      "Getting data for: cap-aux-meules\n",
      "Getting data for: siguiri\n",
      "Getting data for: jumla\n",
      "Getting data for: catamarca\n",
      "Getting data for: kota kinabalu\n",
      "Getting data for: baruun-urt\n",
      "Getting data for: penzance\n",
      "Getting data for: dumas\n",
      "Getting data for: tandalti\n",
      "Getting data for: taft\n",
      "Getting data for: mahebourg\n",
      "Getting data for: airai\n",
      "Getting data for: suda\n",
      "Getting data for: esperance\n",
      "Getting data for: saint george\n",
      "Getting data for: sakaiminato\n",
      "Getting data for: fort-shevchenko\n",
      "Getting data for: vostok\n",
      "Getting data for: haapiti\n",
      "Getting data for: praia da vitoria\n",
      "Getting data for: tarudant\n",
      "City not found: tarudant\n",
      "Getting data for: mirabad\n",
      "Getting data for: vila franca do campo\n",
      "Getting data for: funadhoo\n",
      "Getting data for: belousovka\n",
      "Getting data for: fortuna\n",
      "Getting data for: columbus\n",
      "Getting data for: banov\n",
      "Getting data for: rapid valley\n",
      "Getting data for: belebey\n",
      "Getting data for: kurilsk\n",
      "Getting data for: la paz\n",
      "Getting data for: khawhai\n",
      "Getting data for: carutapera\n",
      "Getting data for: borlange\n",
      "City not found: borlange\n",
      "Getting data for: nagato\n",
      "Getting data for: severnyy\n",
      "Getting data for: marcona\n",
      "City not found: marcona\n",
      "Getting data for: port hardy\n",
      "Getting data for: yongchang\n",
      "Getting data for: changli\n",
      "Getting data for: rio brilhante\n",
      "Getting data for: krasnoselkup\n",
      "Getting data for: koslan\n",
      "Getting data for: timizart\n",
      "Getting data for: lagoa\n",
      "Getting data for: kropotkin\n",
      "Getting data for: burica\n",
      "City not found: burica\n",
      "Getting data for: maykain\n",
      "City not found: maykain\n",
      "Getting data for: stokmarknes\n",
      "Getting data for: malwan\n",
      "City not found: malwan\n",
      "Getting data for: moengo\n",
      "Getting data for: salalah\n",
      "Getting data for: paamiut\n",
      "Getting data for: scarborough\n",
      "Getting data for: nioro\n",
      "Getting data for: hatfield\n",
      "Getting data for: san jeronimo\n",
      "Getting data for: reforma\n",
      "Getting data for: nizhniy kuranakh\n",
      "Getting data for: ossora\n",
      "Getting data for: lazaro cardenas\n",
      "Getting data for: merauke\n",
      "Getting data for: vao\n",
      "Getting data for: manga\n",
      "Getting data for: port macquarie\n",
      "Getting data for: khormuj\n",
      "City not found: khormuj\n",
      "Getting data for: khilok\n",
      "Getting data for: portoferraio\n",
      "Getting data for: wattegama\n",
      "Getting data for: gat\n",
      "Getting data for: santiago del estero\n",
      "Getting data for: antalaha\n",
      "Getting data for: pangai\n",
      "Getting data for: vanimo\n",
      "Getting data for: karambakkudi\n",
      "Getting data for: nelson bay\n",
      "Getting data for: teguldet\n",
      "Getting data for: tiznit\n",
      "Getting data for: otane\n",
      "Getting data for: acajutla\n",
      "Getting data for: brawley\n",
      "Getting data for: barcelos\n",
      "Getting data for: linfen\n",
      "Getting data for: leningradskiy\n",
      "Getting data for: vermillion\n",
      "Getting data for: wahran\n",
      "City not found: wahran\n",
      "Getting data for: puerto leguizamo\n",
      "Getting data for: cerrito\n",
      "Getting data for: madang\n",
      "Getting data for: amursk\n",
      "Getting data for: mosquera\n",
      "Getting data for: nogent-le-rotrou\n",
      "Getting data for: coquimbo\n",
      "Getting data for: nouadhibou\n",
      "Getting data for: saint-joseph\n",
      "Getting data for: attawapiskat\n",
      "City not found: attawapiskat\n",
      "Getting data for: margate\n",
      "Getting data for: wenchi\n",
      "Getting data for: omsukchan\n",
      "Getting data for: leh\n",
      "Getting data for: lebedinyy\n",
      "Getting data for: amderma\n",
      "City not found: amderma\n",
      "Getting data for: tura\n",
      "Getting data for: dunedin\n",
      "Getting data for: tanete\n",
      "Getting data for: mazyr\n",
      "Getting data for: zhanaozen\n",
      "Getting data for: kholm-zhirkovskiy\n",
      "Getting data for: longyearbyen\n",
      "Getting data for: arraial do cabo\n",
      "Getting data for: karlstad\n",
      "Getting data for: astoria\n",
      "Getting data for: aizpute\n",
      "Getting data for: gillette\n",
      "Getting data for: lorengau\n",
      "Getting data for: seymchan\n",
      "Getting data for: ji-parana\n",
      "City not found: ji-parana\n",
      "Getting data for: bonito\n",
      "Getting data for: benjamin constant\n",
      "Getting data for: labuhan\n",
      "Getting data for: acapulco\n",
      "Getting data for: abu samrah\n",
      "Getting data for: brigantine\n",
      "Getting data for: mys shmidta\n",
      "City not found: mys shmidta\n",
      "Getting data for: port lincoln\n",
      "Getting data for: maymyo\n",
      "Getting data for: yarada\n",
      "Getting data for: mezen\n",
      "Getting data for: kirakira\n",
      "Getting data for: grand gaube\n",
      "Getting data for: coihaique\n",
      "Getting data for: kachikau\n",
      "City not found: kachikau\n",
      "Getting data for: marsh harbour\n",
      "Getting data for: bac lieu\n",
      "Getting data for: emborion\n",
      "Getting data for: montepuez\n",
      "Getting data for: meulaboh\n",
      "Getting data for: rawson\n",
      "Getting data for: balaipungut\n",
      "Getting data for: broome\n",
      "Getting data for: hovd\n",
      "Getting data for: katherine\n",
      "Getting data for: kurumkan\n",
      "Getting data for: lovozero\n",
      "Getting data for: shieli\n",
      "Getting data for: yumen\n",
      "Getting data for: kavali\n",
      "Getting data for: macaboboni\n",
      "City not found: macaboboni\n",
      "Getting data for: palmer\n",
      "Getting data for: tabory\n",
      "Getting data for: san policarpo\n",
      "Getting data for: antioquia\n",
      "Getting data for: mount isa\n",
      "Getting data for: portland\n",
      "Getting data for: piskivka\n",
      "Getting data for: araruama\n",
      "Getting data for: tocopilla\n",
      "Getting data for: tshela\n",
      "Getting data for: roswell\n",
      "Getting data for: oriximina\n",
      "Getting data for: oskemen\n",
      "Getting data for: nehe\n",
      "Getting data for: half moon bay\n",
      "Getting data for: jibuti\n",
      "Getting data for: manaure\n",
      "Getting data for: xam nua\n",
      "Getting data for: dauphin\n",
      "Getting data for: cayenne\n",
      "Getting data for: lhuntshi\n",
      "City not found: lhuntshi\n",
      "Getting data for: krasne\n",
      "Getting data for: jardim\n",
      "Getting data for: warqla\n",
      "City not found: warqla\n",
      "Getting data for: el dorado\n",
      "Getting data for: bay roberts\n",
      "Getting data for: kamra\n",
      "Getting data for: rome\n",
      "Getting data for: bolshiye uki\n",
      "City not found: bolshiye uki\n",
      "Getting data for: lasa\n",
      "Getting data for: northam\n",
      "Getting data for: bitung\n",
      "Getting data for: manavalakurichi\n",
      "Getting data for: biltine\n",
      "Getting data for: monte patria\n",
      "Getting data for: codrington\n",
      "Getting data for: lufkin\n",
      "Getting data for: angoche\n",
      "Getting data for: taltal\n",
      "Getting data for: sirumugai\n",
      "Getting data for: doctor pedro p. pena\n",
      "City not found: doctor pedro p. pena\n",
      "Getting data for: vallenar\n",
      "Getting data for: aleksandrov gay\n",
      "Getting data for: semenivka\n",
      "Getting data for: bacsay\n",
      "Getting data for: challans\n",
      "Getting data for: antofagasta\n",
      "Getting data for: camacha\n",
      "Getting data for: sedelnikovo\n",
      "City not found: sedelnikovo\n",
      "Getting data for: brookhaven\n",
      "Getting data for: port-cartier\n",
      "Getting data for: chicama\n",
      "Getting data for: huarmey\n",
      "Getting data for: el cope\n",
      "Getting data for: lagoa santa\n",
      "Getting data for: beringovskiy\n",
      "Getting data for: murray\n",
      "Getting data for: gorom-gorom\n",
      "Getting data for: bacolod\n",
      "Getting data for: dwarka\n",
      "Getting data for: zyryanovsk\n",
      "Getting data for: roald\n",
      "Getting data for: flinders\n",
      "Getting data for: colares\n",
      "Getting data for: khash\n",
      "Getting data for: vagur\n",
      "Getting data for: tananger\n",
      "Getting data for: cholet\n",
      "Getting data for: pacific grove\n",
      "Getting data for: kulhudhuffushi\n",
      "Getting data for: mushie\n",
      "Getting data for: halifax\n",
      "Getting data for: umzimvubu\n"
     ]
    },
    {
     "name": "stdout",
     "output_type": "stream",
     "text": [
      "City not found: umzimvubu\n",
      "Getting data for: demyansk\n",
      "Getting data for: sabha\n",
      "Getting data for: tautira\n",
      "Getting data for: bubaque\n",
      "Getting data for: naze\n",
      "Getting data for: arlit\n",
      "Getting data for: iracoubo\n",
      "Getting data for: svetlogorsk\n",
      "Getting data for: linxia\n",
      "Getting data for: boende\n",
      "Getting data for: tomatlan\n",
      "Getting data for: bandarbeyla\n",
      "Getting data for: pathalgaon\n",
      "Getting data for: mayo\n",
      "Getting data for: mount gambier\n",
      "Getting data for: leshan\n",
      "Getting data for: rey bouba\n",
      "Getting data for: longlac\n",
      "City not found: longlac\n",
      "Getting data for: dire dawa\n",
      "Getting data for: ilulissat\n",
      "Getting data for: campbellton\n",
      "Getting data for: akdepe\n",
      "Getting data for: anaconda\n",
      "Getting data for: rafraf\n",
      "Getting data for: viadana\n",
      "Getting data for: majene\n",
      "Getting data for: bhawana\n",
      "Getting data for: sorland\n",
      "Getting data for: show low\n",
      "Getting data for: mugumu\n",
      "Getting data for: port blair\n",
      "Getting data for: eureka\n",
      "Getting data for: mirzapur\n",
      "Getting data for: saint-georges\n",
      "Getting data for: adre\n",
      "Getting data for: corn island\n",
      "Getting data for: rolim de moura\n",
      "City not found: rolim de moura\n",
      "Getting data for: la ronge\n",
      "Getting data for: sorong\n",
      "Getting data for: bacuit\n",
      "City not found: bacuit\n",
      "Getting data for: port hedland\n",
      "Getting data for: mackay\n",
      "Getting data for: braslav\n",
      "City not found: braslav\n",
      "Getting data for: road town\n",
      "Getting data for: havre-saint-pierre\n",
      "Getting data for: hinton\n",
      "Getting data for: diego de almagro\n",
      "Getting data for: pizhma\n",
      "Getting data for: bairiki\n",
      "Getting data for: talara\n",
      "Getting data for: anadyr\n",
      "Getting data for: bereda\n"
     ]
    }
   ],
   "source": [
    "new_cities = []\n",
    "max_temp = []\n",
    "humidity = []\n",
    "cloud = []\n",
    "wind = []\n",
    "lat = []\n",
    "lng = []\n",
    "country = []\n",
    "date = []\n",
    "base_url = \"http://api.openweathermap.org/data/2.5/weather\"\n",
    "url = f\"{base_url}?appid={weather_api_key}&q=\"\n",
    "\n",
    "for city in cities:\n",
    "    print(f\"Getting data for: \" + city)\n",
    "    request_url = f\"{url}{city}\"\n",
    "    response=requests.get(request_url)\n",
    "    time.sleep(1.5)\n",
    "    try:\n",
    "        response.raise_for_status()\n",
    "        data = response.json()\n",
    "        new_cities.append(data['name'])\n",
    "        max_temp.append(data['main']['temp_max'])\n",
    "        humidity.append(data['main']['humidity'])                  \n",
    "        cloud.append(data['clouds']['all'])\n",
    "        wind.append(data['wind']['speed'])\n",
    "        lat.append(data['coord']['lat'])\n",
    "        lng.append(data['coord']['lon'])\n",
    "        country.append(data['sys']['country'])\n",
    "        date.append(data['dt'])\n",
    "    except requests.HTTPError as e:\n",
    "        print(\"City not found: \" + city)\n",
    "        "
   ]
  },
  {
   "cell_type": "code",
   "execution_count": null,
   "metadata": {},
   "outputs": [],
   "source": []
  },
  {
   "cell_type": "code",
   "execution_count": null,
   "metadata": {},
   "outputs": [],
   "source": []
  },
  {
   "cell_type": "markdown",
   "metadata": {},
   "source": [
    "### Convert Raw Data to DataFrame\n",
    "* Export the city data into a .csv.\n",
    "* Display the DataFrame"
   ]
  },
  {
   "cell_type": "code",
   "execution_count": 25,
   "metadata": {},
   "outputs": [],
   "source": [
    "weather_df = pd.DataFrame({\n",
    "    'city': new_cities,\n",
    "    'Lat': lat,\n",
    "    'Lng':lng,\n",
    "    'Max Temp': max_temp,\n",
    "    'Humidity': humidity,\n",
    "    'Cloudiness': cloud,\n",
    "    'Wind Speed': wind,\n",
    "    'Country': country,\n",
    "    'Date': date\n",
    "})\n"
   ]
  },
  {
   "cell_type": "code",
   "execution_count": 26,
   "metadata": {},
   "outputs": [],
   "source": [
    "weather_df.to_csv('weatherpy.csv')"
   ]
  },
  {
   "cell_type": "markdown",
   "metadata": {},
   "source": [
    "## Inspect the data and remove the cities where the humidity > 100%.\n",
    "----\n",
    "Skip this step if there are no cities that have humidity > 100%. "
   ]
  },
  {
   "cell_type": "code",
   "execution_count": null,
   "metadata": {},
   "outputs": [],
   "source": []
  },
  {
   "cell_type": "code",
   "execution_count": 18,
   "metadata": {},
   "outputs": [
    {
     "data": {
      "text/html": [
       "<div>\n",
       "<style scoped>\n",
       "    .dataframe tbody tr th:only-of-type {\n",
       "        vertical-align: middle;\n",
       "    }\n",
       "\n",
       "    .dataframe tbody tr th {\n",
       "        vertical-align: top;\n",
       "    }\n",
       "\n",
       "    .dataframe thead th {\n",
       "        text-align: right;\n",
       "    }\n",
       "</style>\n",
       "<table border=\"1\" class=\"dataframe\">\n",
       "  <thead>\n",
       "    <tr style=\"text-align: right;\">\n",
       "      <th></th>\n",
       "      <th>city</th>\n",
       "      <th>Lat</th>\n",
       "      <th>Lng</th>\n",
       "      <th>Max Temp</th>\n",
       "      <th>Humidity</th>\n",
       "      <th>Cloudiness</th>\n",
       "      <th>Wind Speed</th>\n",
       "      <th>Country</th>\n",
       "      <th>Date</th>\n",
       "    </tr>\n",
       "  </thead>\n",
       "  <tbody>\n",
       "  </tbody>\n",
       "</table>\n",
       "</div>"
      ],
      "text/plain": [
       "Empty DataFrame\n",
       "Columns: [city, Lat, Lng, Max Temp, Humidity, Cloudiness, Wind Speed, Country, Date]\n",
       "Index: []"
      ]
     },
     "execution_count": 18,
     "metadata": {},
     "output_type": "execute_result"
    }
   ],
   "source": [
    "#  Get the indices of cities that have humidity over 100%.\n",
    "hothum = weather_df[weather_df['Humidity'] > 100]\n",
    "hothum"
   ]
  },
  {
   "cell_type": "code",
   "execution_count": 19,
   "metadata": {},
   "outputs": [
    {
     "data": {
      "text/html": [
       "<div>\n",
       "<style scoped>\n",
       "    .dataframe tbody tr th:only-of-type {\n",
       "        vertical-align: middle;\n",
       "    }\n",
       "\n",
       "    .dataframe tbody tr th {\n",
       "        vertical-align: top;\n",
       "    }\n",
       "\n",
       "    .dataframe thead th {\n",
       "        text-align: right;\n",
       "    }\n",
       "</style>\n",
       "<table border=\"1\" class=\"dataframe\">\n",
       "  <thead>\n",
       "    <tr style=\"text-align: right;\">\n",
       "      <th></th>\n",
       "      <th>city</th>\n",
       "      <th>Lat</th>\n",
       "      <th>Lng</th>\n",
       "      <th>Max Temp</th>\n",
       "      <th>Humidity</th>\n",
       "      <th>Cloudiness</th>\n",
       "      <th>Wind Speed</th>\n",
       "      <th>Country</th>\n",
       "      <th>Date</th>\n",
       "    </tr>\n",
       "  </thead>\n",
       "  <tbody>\n",
       "    <tr>\n",
       "      <th>0</th>\n",
       "      <td>Puerto Ayora</td>\n",
       "      <td>-0.7393</td>\n",
       "      <td>-90.3518</td>\n",
       "      <td>296.79</td>\n",
       "      <td>86</td>\n",
       "      <td>89</td>\n",
       "      <td>2.68</td>\n",
       "      <td>EC</td>\n",
       "      <td>1621390833</td>\n",
       "    </tr>\n",
       "    <tr>\n",
       "      <th>1</th>\n",
       "      <td>Bayir</td>\n",
       "      <td>37.2687</td>\n",
       "      <td>28.2167</td>\n",
       "      <td>284.44</td>\n",
       "      <td>57</td>\n",
       "      <td>0</td>\n",
       "      <td>1.45</td>\n",
       "      <td>TR</td>\n",
       "      <td>1621391003</td>\n",
       "    </tr>\n",
       "    <tr>\n",
       "      <th>2</th>\n",
       "      <td>Dawlatabad</td>\n",
       "      <td>36.4141</td>\n",
       "      <td>64.9053</td>\n",
       "      <td>299.51</td>\n",
       "      <td>13</td>\n",
       "      <td>0</td>\n",
       "      <td>1.22</td>\n",
       "      <td>AF</td>\n",
       "      <td>1621391005</td>\n",
       "    </tr>\n",
       "    <tr>\n",
       "      <th>3</th>\n",
       "      <td>Albany</td>\n",
       "      <td>42.6001</td>\n",
       "      <td>-73.9662</td>\n",
       "      <td>291.49</td>\n",
       "      <td>82</td>\n",
       "      <td>43</td>\n",
       "      <td>2.51</td>\n",
       "      <td>US</td>\n",
       "      <td>1621391289</td>\n",
       "    </tr>\n",
       "  </tbody>\n",
       "</table>\n",
       "</div>"
      ],
      "text/plain": [
       "           city      Lat      Lng  Max Temp  Humidity  Cloudiness  Wind Speed  \\\n",
       "0  Puerto Ayora  -0.7393 -90.3518    296.79        86          89        2.68   \n",
       "1         Bayir  37.2687  28.2167    284.44        57           0        1.45   \n",
       "2    Dawlatabad  36.4141  64.9053    299.51        13           0        1.22   \n",
       "3        Albany  42.6001 -73.9662    291.49        82          43        2.51   \n",
       "\n",
       "  Country        Date  \n",
       "0      EC  1621390833  \n",
       "1      TR  1621391003  \n",
       "2      AF  1621391005  \n",
       "3      US  1621391289  "
      ]
     },
     "execution_count": 19,
     "metadata": {},
     "output_type": "execute_result"
    }
   ],
   "source": [
    "# Make a new DataFrame equal to the city data to drop all humidity outliers by index.\n",
    "# Passing \"inplace=False\" will make a copy of the city_data DataFrame, which we call \"clean_city_data\".\n",
    "drop_humidity = weather_df[weather_df['Humidity'] <= 100]\n",
    "drop_humidity"
   ]
  },
  {
   "cell_type": "code",
   "execution_count": null,
   "metadata": {},
   "outputs": [],
   "source": [
    "\n"
   ]
  },
  {
   "cell_type": "markdown",
   "metadata": {},
   "source": [
    "## Plotting the Data\n",
    "* Use proper labeling of the plots using plot titles (including date of analysis) and axes labels.\n",
    "* Save the plotted figures as .pngs."
   ]
  },
  {
   "cell_type": "markdown",
   "metadata": {},
   "source": [
    "## Latitude vs. Temperature Plot"
   ]
  },
  {
   "cell_type": "code",
   "execution_count": 27,
   "metadata": {
    "scrolled": true
   },
   "outputs": [
    {
     "data": {
      "text/plain": [
       "<matplotlib.collections.PathCollection at 0x21263945198>"
      ]
     },
     "execution_count": 27,
     "metadata": {},
     "output_type": "execute_result"
    },
    {
     "data": {
      "image/png": "[encoded data removed]",
      "text/plain": [
       "<Figure size 432x288 with 1 Axes>"
      ]
     },
     "metadata": {
      "needs_background": "light"
     },
     "output_type": "display_data"
    }
   ],
   "source": [
    "plt.scatter(weather_df[\"Lat\"], weather_df[\"Max Temp\"], facecolor = \"steelblue\", edgecolor = \"black\")"
   ]
  },
  {
   "cell_type": "markdown",
   "metadata": {},
   "source": [
    "## Latitude vs. Humidity Plot"
   ]
  },
  {
   "cell_type": "code",
   "execution_count": 28,
   "metadata": {},
   "outputs": [
    {
     "data": {
      "text/plain": [
       "<matplotlib.collections.PathCollection at 0x212639d4080>"
      ]
     },
     "execution_count": 28,
     "metadata": {},
     "output_type": "execute_result"
    },
    {
     "data": {
      "image/png": "[encoded data removed]",
      "text/plain": [
       "<Figure size 432x288 with 1 Axes>"
      ]
     },
     "metadata": {
      "needs_background": "light"
     },
     "output_type": "display_data"
    }
   ],
   "source": [
    "plt.scatter(weather_df[\"Lat\"], weather_df[\"Humidity\"], facecolor = \"steelblue\", edgecolor = \"black\")"
   ]
  },
  {
   "cell_type": "markdown",
   "metadata": {},
   "source": [
    "## Latitude vs. Cloudiness Plot"
   ]
  },
  {
   "cell_type": "code",
   "execution_count": 29,
   "metadata": {},
   "outputs": [
    {
     "data": {
      "text/plain": [
       "<matplotlib.collections.PathCollection at 0x21263a2acf8>"
      ]
     },
     "execution_count": 29,
     "metadata": {},
     "output_type": "execute_result"
    },
    {
     "data": {
      "image/png": "[encoded data removed]",
      "text/plain": [
       "<Figure size 432x288 with 1 Axes>"
      ]
     },
     "metadata": {
      "needs_background": "light"
     },
     "output_type": "display_data"
    }
   ],
   "source": [
    "plt.scatter(weather_df[\"Lat\"], weather_df[\"Cloudiness\"], facecolor = \"steelblue\", edgecolor = \"black\")"
   ]
  },
  {
   "cell_type": "markdown",
   "metadata": {},
   "source": [
    "## Latitude vs. Wind Speed Plot"
   ]
  },
  {
   "cell_type": "code",
   "execution_count": 30,
   "metadata": {},
   "outputs": [
    {
     "data": {
      "text/plain": [
       "<matplotlib.collections.PathCollection at 0x21263a8ff60>"
      ]
     },
     "execution_count": 30,
     "metadata": {},
     "output_type": "execute_result"
    },
    {
     "data": {
      "image/png": "[encoded data removed]",
      "text/plain": [
       "<Figure size 432x288 with 1 Axes>"
      ]
     },
     "metadata": {
      "needs_background": "light"
     },
     "output_type": "display_data"
    }
   ],
   "source": [
    "plt.scatter(weather_df[\"Lat\"], weather_df[\"Wind Speed\"], facecolor = \"steelblue\", edgecolor = \"black\")"
   ]
  },
  {
   "cell_type": "markdown",
   "metadata": {},
   "source": [
    "## Linear Regression"
   ]
  },
  {
   "cell_type": "code",
   "execution_count": null,
   "metadata": {},
   "outputs": [],
   "source": [
    "nort_hem = weather_df.loc[weather_df['Lat'] >= 0]\n",
    "south_hem = weather_df.loc[weather_df['Lat'] < 0]"
   ]
  },
  {
   "cell_type": "markdown",
   "metadata": {},
   "source": [
    "####  Northern Hemisphere - Max Temp vs. Latitude Linear Regression"
   ]
  },
  {
   "cell_type": "code",
   "execution_count": null,
   "metadata": {},
   "outputs": [],
   "source": []
  },
  {
   "cell_type": "markdown",
   "metadata": {},
   "source": [
    "####  Southern Hemisphere - Max Temp vs. Latitude Linear Regression"
   ]
  },
  {
   "cell_type": "code",
   "execution_count": null,
   "metadata": {},
   "outputs": [],
   "source": []
  },
  {
   "cell_type": "markdown",
   "metadata": {},
   "source": [
    "####  Northern Hemisphere - Humidity (%) vs. Latitude Linear Regression"
   ]
  },
  {
   "cell_type": "code",
   "execution_count": null,
   "metadata": {},
   "outputs": [],
   "source": []
  },
  {
   "cell_type": "markdown",
   "metadata": {},
   "source": [
    "####  Southern Hemisphere - Humidity (%) vs. Latitude Linear Regression"
   ]
  },
  {
   "cell_type": "code",
   "execution_count": null,
   "metadata": {},
   "outputs": [],
   "source": []
  },
  {
   "cell_type": "markdown",
   "metadata": {},
   "source": [
    "####  Northern Hemisphere - Cloudiness (%) vs. Latitude Linear Regression"
   ]
  },
  {
   "cell_type": "code",
   "execution_count": null,
   "metadata": {},
   "outputs": [],
   "source": []
  },
  {
   "cell_type": "markdown",
   "metadata": {},
   "source": [
    "####  Southern Hemisphere - Cloudiness (%) vs. Latitude Linear Regression"
   ]
  },
  {
   "cell_type": "code",
   "execution_count": null,
   "metadata": {},
   "outputs": [],
   "source": []
  },
  {
   "cell_type": "markdown",
   "metadata": {},
   "source": [
    "####  Northern Hemisphere - Wind Speed (mph) vs. Latitude Linear Regression"
   ]
  },
  {
   "cell_type": "code",
   "execution_count": null,
   "metadata": {},
   "outputs": [],
   "source": []
  },
  {
   "cell_type": "markdown",
   "metadata": {},
   "source": [
    "####  Southern Hemisphere - Wind Speed (mph) vs. Latitude Linear Regression"
   ]
  },
  {
   "cell_type": "code",
   "execution_count": null,
   "metadata": {},
   "outputs": [],
   "source": []
  },
  {
   "cell_type": "code",
   "execution_count": null,
   "metadata": {},
   "outputs": [],
   "source": []
  }
 ],
 "metadata": {
  "anaconda-cloud": {},
  "kernel_info": {
   "name": "python3"
  },
  "kernelspec": {
   "display_name": "Python 3",
   "language": "python",
   "name": "python3"
  },
  "language_info": {
   "codemirror_mode": {
    "name": "ipython",
    "version": 3
   },
   "file_extension": ".py",
   "mimetype": "text/x-python",
   "name": "python",
   "nbconvert_exporter": "python",
   "pygments_lexer": "ipython3",
   "version": "3.6.10"
  },
  "latex_envs": {
   "LaTeX_envs_menu_present": true,
   "autoclose": false,
   "autocomplete": true,
   "bibliofile": "biblio.bib",
   "cite_by": "apalike",
   "current_citInitial": 1,
   "eqLabelWithNumbers": true,
   "eqNumInitial": 1,
   "hotkeys": {
    "equation": "Ctrl-E",
    "itemize": "Ctrl-I"
   },
   "labels_anchors": false,
   "latex_user_defs": false,
   "report_style_numbering": false,
   "user_envs_cfg": false
  },
  "nteract": {
   "version": "0.12.3"
  }
 },
 "nbformat": 4,
 "nbformat_minor": 2
}
